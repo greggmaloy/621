{
 "cells": [
  {
   "cell_type": "markdown",
   "id": "95bcad9b",
   "metadata": {},
   "source": [
    "**Gregg Maloy   \n",
    "Data 621    \n",
    "Blog I     \n",
    "A Comparision of the Predicitve Power of an Autoregressive Model versus Simple Linear Model using Non-Hispanic Black Maternal Mortality Rates in the United States between 1999-2019**"
   ]
  },
  {
   "cell_type": "markdown",
   "id": "c6bee2d0",
   "metadata": {},
   "source": [
    "**PART I. INTRODUCTION**\n",
    "\n",
    "*Research Question*    \n",
    "The purpose of this analysis is to compare the predictive power of a simple linear model versus the predictive power of a simple autoregressive model (lag variable simple linear model) using mean square error (MSE).  More specificaly, data on US Non-Hispanic Black Maternal Mortality Rates(MMR) between 1999-2019 was used to compare predictive power between the models.\n",
    "\n",
    "*Justification and Relevance*     \n",
    "It is well documented that maternal mortality, considered a health indicator for the greater population, has increased within recent years, particularly among minority groups.  Health systems throughout the country are tasked with reducing maternal mortality rates.  \n",
    "\n",
    "*Data Sources*    \n",
    "The dataset consists of estimated rates of maternal deaths per 100,000 live births across all 50 states.  It is imporatant to emphasize that the MMR's in the dataset are estimates, as the collection of standardized and comparable maternal mortality data remains a challenge due, in part, to lack of standarized data collection. Data is available via 'The Institute for Health Metrics and Evalulation' website, which is affilated with the University of Washington.   \n",
    "Dataset: https://ghdx.healthdata.org/record/ihme-data/united-states-maternal-mortality-by-state-race-ethnicity-1999-2019"
   ]
  },
  {
   "cell_type": "markdown",
   "id": "e628d8d9",
   "metadata": {},
   "source": [
    "**PART II. DATA INSPECTION & WRANGLING**   \n",
    "\n",
    "*Data Inspection*   \n",
    "Data is loaded into a dataframe from a CSV file using pandas. \n",
    "The dataframe has 5901 rows long with 15 columns/variables.   \n",
    "\n",
    "Variables include:    \n",
    "- measure_id - A numerical identifier for the 'Maternal Mortality Ratio' measure.        \n",
    "- measure_name - Each value in this column is 'Maternal Mortality Ratio'.   \n",
    "- location_id - A numerical location identifier.\t   \n",
    "- location_name - State, Region or National.   \n",
    "- race_group - Maternal race/ethnic grouping.   \n",
    "- sex_id - Gender numerical identifier.   \n",
    "- sex_name - Gender.   \n",
    "- age_group_id - Maternal age numerical group.   \n",
    "- age_group_name - Maternal age group.   \n",
    "- year_id\tmetric_id - Year.    \n",
    "- metric_name - Each value in this column is 'Rate'.  \n",
    "- val - Estimated MMR.\t   \n",
    "- lower - Lower Confidence Interval.   \n",
    "- upper - Upper Confidence Interval.\n",
    "\n",
    "Data Inspection Notes\n",
    "- Variables are encoded to proper data types and include 5 ints, 4 floats, and 6 objects.   \n",
    "- Information produced by df.describe() was not entirely accurate, as the dataset would need to be tidied for calculations to be relevant.   \n",
    "- Maternal mortality data is available for 21 years (1999- 2019).   \n",
    "- Data is available for 50 states, the District of Columbia, as well as 4 census regions and 1 national region.   \n",
    "- The only null/nan values in the data frame are in column 'location_id', which has 420 null/nan values.   \n",
    "- Variables of interest for this analysis will be 'location_name', 'year_id', 'race_group', and 'val' (maternal mortality ratio) rate, which is defined as the number of maternal deaths per 100,000 live births.\n",
    "- Finally the dataframe is filtered to only where 'location_name'='national', as this analysis is only interested on national statistics and will not drill down to state level data.\n",
    "- The final dataframe has 105 rows and 5 columns: location_name, state_abbreviation, year_id, race_group and val (maternal mortality ratio)."
   ]
  },
  {
   "cell_type": "code",
   "execution_count": 457,
   "id": "d4e9753b",
   "metadata": {},
   "outputs": [
    {
     "data": {
      "text/html": [
       "<div>\n",
       "<style scoped>\n",
       "    .dataframe tbody tr th:only-of-type {\n",
       "        vertical-align: middle;\n",
       "    }\n",
       "\n",
       "    .dataframe tbody tr th {\n",
       "        vertical-align: top;\n",
       "    }\n",
       "\n",
       "    .dataframe thead th {\n",
       "        text-align: right;\n",
       "    }\n",
       "</style>\n",
       "<table border=\"1\" class=\"dataframe\">\n",
       "  <thead>\n",
       "    <tr style=\"text-align: right;\">\n",
       "      <th></th>\n",
       "      <th>measure_id</th>\n",
       "      <th>measure_name</th>\n",
       "      <th>location_id</th>\n",
       "      <th>location_name</th>\n",
       "      <th>race_group</th>\n",
       "      <th>sex_id</th>\n",
       "      <th>sex_name</th>\n",
       "      <th>age_group_id</th>\n",
       "      <th>age_group_name</th>\n",
       "      <th>year_id</th>\n",
       "      <th>metric_id</th>\n",
       "      <th>metric_name</th>\n",
       "      <th>val</th>\n",
       "      <th>lower</th>\n",
       "      <th>upper</th>\n",
       "    </tr>\n",
       "  </thead>\n",
       "  <tbody>\n",
       "    <tr>\n",
       "      <th>0</th>\n",
       "      <td>25</td>\n",
       "      <td>Maternal mortality ratio</td>\n",
       "      <td>523.0</td>\n",
       "      <td>Alabama</td>\n",
       "      <td>Hispanic and any race</td>\n",
       "      <td>2</td>\n",
       "      <td>Female</td>\n",
       "      <td>169</td>\n",
       "      <td>10 to 54</td>\n",
       "      <td>1999</td>\n",
       "      <td>3</td>\n",
       "      <td>Rate</td>\n",
       "      <td>7.054950</td>\n",
       "      <td>3.074580</td>\n",
       "      <td>16.177776</td>\n",
       "    </tr>\n",
       "    <tr>\n",
       "      <th>1</th>\n",
       "      <td>25</td>\n",
       "      <td>Maternal mortality ratio</td>\n",
       "      <td>523.0</td>\n",
       "      <td>Alabama</td>\n",
       "      <td>Hispanic and any race</td>\n",
       "      <td>2</td>\n",
       "      <td>Female</td>\n",
       "      <td>169</td>\n",
       "      <td>10 to 54</td>\n",
       "      <td>2000</td>\n",
       "      <td>3</td>\n",
       "      <td>Rate</td>\n",
       "      <td>6.854802</td>\n",
       "      <td>2.409957</td>\n",
       "      <td>18.109539</td>\n",
       "    </tr>\n",
       "    <tr>\n",
       "      <th>2</th>\n",
       "      <td>25</td>\n",
       "      <td>Maternal mortality ratio</td>\n",
       "      <td>523.0</td>\n",
       "      <td>Alabama</td>\n",
       "      <td>Hispanic and any race</td>\n",
       "      <td>2</td>\n",
       "      <td>Female</td>\n",
       "      <td>169</td>\n",
       "      <td>10 to 54</td>\n",
       "      <td>2001</td>\n",
       "      <td>3</td>\n",
       "      <td>Rate</td>\n",
       "      <td>7.071387</td>\n",
       "      <td>2.085136</td>\n",
       "      <td>21.455477</td>\n",
       "    </tr>\n",
       "  </tbody>\n",
       "</table>\n",
       "</div>"
      ],
      "text/plain": [
       "   measure_id              measure_name  location_id location_name  \\\n",
       "0          25  Maternal mortality ratio        523.0       Alabama   \n",
       "1          25  Maternal mortality ratio        523.0       Alabama   \n",
       "2          25  Maternal mortality ratio        523.0       Alabama   \n",
       "\n",
       "              race_group  sex_id sex_name  age_group_id age_group_name  \\\n",
       "0  Hispanic and any race       2   Female           169       10 to 54   \n",
       "1  Hispanic and any race       2   Female           169       10 to 54   \n",
       "2  Hispanic and any race       2   Female           169       10 to 54   \n",
       "\n",
       "   year_id  metric_id metric_name       val     lower      upper  \n",
       "0     1999          3        Rate  7.054950  3.074580  16.177776  \n",
       "1     2000          3        Rate  6.854802  2.409957  18.109539  \n",
       "2     2001          3        Rate  7.071387  2.085136  21.455477  "
      ]
     },
     "execution_count": 457,
     "metadata": {},
     "output_type": "execute_result"
    }
   ],
   "source": [
    "#Importing libraries and loading data\n",
    "import pandas as pd\n",
    "import numpy as np\n",
    "import matplotlib.pyplot as plt\n",
    "from sklearn.model_selection import train_test_split\n",
    "from sklearn.linear_model import LinearRegression\n",
    "from sklearn.metrics import mean_squared_error\n",
    "url = 'https://raw.githubusercontent.com/greggmaloy/Data_602/main/Data_602_final_maternal_mortality_ratio_US.csv'\n",
    "data = pd.read_csv(url)\n",
    "data.head(3)"
   ]
  },
  {
   "cell_type": "code",
   "execution_count": 458,
   "id": "764174a8",
   "metadata": {},
   "outputs": [
    {
     "name": "stdout",
     "output_type": "stream",
     "text": [
      "<class 'pandas.core.frame.DataFrame'>\n",
      "RangeIndex: 5901 entries, 0 to 5900\n",
      "Data columns (total 15 columns):\n",
      " #   Column          Non-Null Count  Dtype  \n",
      "---  ------          --------------  -----  \n",
      " 0   measure_id      5901 non-null   int64  \n",
      " 1   measure_name    5901 non-null   object \n",
      " 2   location_id     5481 non-null   float64\n",
      " 3   location_name   5901 non-null   object \n",
      " 4   race_group      5901 non-null   object \n",
      " 5   sex_id          5901 non-null   int64  \n",
      " 6   sex_name        5901 non-null   object \n",
      " 7   age_group_id    5901 non-null   int64  \n",
      " 8   age_group_name  5901 non-null   object \n",
      " 9   year_id         5901 non-null   int64  \n",
      " 10  metric_id       5901 non-null   int64  \n",
      " 11  metric_name     5901 non-null   object \n",
      " 12  val             5901 non-null   float64\n",
      " 13  lower           5901 non-null   float64\n",
      " 14  upper           5901 non-null   float64\n",
      "dtypes: float64(4), int64(5), object(6)\n",
      "memory usage: 691.6+ KB\n"
     ]
    }
   ],
   "source": [
    "#The dataframe is 5901 rows long with 15 columns.\n",
    "#Variables are encoded to proper data type and include 5 ints, 4 floats, and 6 objects.\n",
    "#these values are not relevant, as the dataset is not tidied and aggregate counts therefore inaccurate\n",
    "#Check whether only numeric values are present in numeric columns\n",
    "#these are all the years included in the dataset\n",
    "#these are all the 'locations' in the dataset - 50 states, the district of columbia, 4 census regions, and one national region\n",
    "df.info()"
   ]
  },
  {
   "cell_type": "code",
   "execution_count": 459,
   "id": "efd8d79c",
   "metadata": {},
   "outputs": [
    {
     "data": {
      "text/html": [
       "<div>\n",
       "<style scoped>\n",
       "    .dataframe tbody tr th:only-of-type {\n",
       "        vertical-align: middle;\n",
       "    }\n",
       "\n",
       "    .dataframe tbody tr th {\n",
       "        vertical-align: top;\n",
       "    }\n",
       "\n",
       "    .dataframe thead th {\n",
       "        text-align: right;\n",
       "    }\n",
       "</style>\n",
       "<table border=\"1\" class=\"dataframe\">\n",
       "  <thead>\n",
       "    <tr style=\"text-align: right;\">\n",
       "      <th></th>\n",
       "      <th>measure_id</th>\n",
       "      <th>location_id</th>\n",
       "      <th>sex_id</th>\n",
       "      <th>age_group_id</th>\n",
       "      <th>year_id</th>\n",
       "      <th>metric_id</th>\n",
       "      <th>val</th>\n",
       "      <th>lower</th>\n",
       "      <th>upper</th>\n",
       "    </tr>\n",
       "  </thead>\n",
       "  <tbody>\n",
       "    <tr>\n",
       "      <th>count</th>\n",
       "      <td>5901.0</td>\n",
       "      <td>5481.000000</td>\n",
       "      <td>5901.0</td>\n",
       "      <td>5901.0</td>\n",
       "      <td>5901.000000</td>\n",
       "      <td>5901.0</td>\n",
       "      <td>5901.000000</td>\n",
       "      <td>5901.000000</td>\n",
       "      <td>5901.000000</td>\n",
       "    </tr>\n",
       "    <tr>\n",
       "      <th>mean</th>\n",
       "      <td>25.0</td>\n",
       "      <td>537.747126</td>\n",
       "      <td>2.0</td>\n",
       "      <td>169.0</td>\n",
       "      <td>2009.000000</td>\n",
       "      <td>3.0</td>\n",
       "      <td>25.883291</td>\n",
       "      <td>12.189606</td>\n",
       "      <td>107.417064</td>\n",
       "    </tr>\n",
       "    <tr>\n",
       "      <th>std</th>\n",
       "      <td>0.0</td>\n",
       "      <td>68.411987</td>\n",
       "      <td>0.0</td>\n",
       "      <td>0.0</td>\n",
       "      <td>6.055814</td>\n",
       "      <td>0.0</td>\n",
       "      <td>24.849678</td>\n",
       "      <td>13.794055</td>\n",
       "      <td>380.238824</td>\n",
       "    </tr>\n",
       "    <tr>\n",
       "      <th>min</th>\n",
       "      <td>25.0</td>\n",
       "      <td>102.000000</td>\n",
       "      <td>2.0</td>\n",
       "      <td>169.0</td>\n",
       "      <td>1999.000000</td>\n",
       "      <td>3.0</td>\n",
       "      <td>0.238959</td>\n",
       "      <td>0.000029</td>\n",
       "      <td>2.990539</td>\n",
       "    </tr>\n",
       "    <tr>\n",
       "      <th>25%</th>\n",
       "      <td>25.0</td>\n",
       "      <td>534.000000</td>\n",
       "      <td>2.0</td>\n",
       "      <td>169.0</td>\n",
       "      <td>2004.000000</td>\n",
       "      <td>3.0</td>\n",
       "      <td>10.490341</td>\n",
       "      <td>2.861350</td>\n",
       "      <td>25.498193</td>\n",
       "    </tr>\n",
       "    <tr>\n",
       "      <th>50%</th>\n",
       "      <td>25.0</td>\n",
       "      <td>547.000000</td>\n",
       "      <td>2.0</td>\n",
       "      <td>169.0</td>\n",
       "      <td>2009.000000</td>\n",
       "      <td>3.0</td>\n",
       "      <td>18.918142</td>\n",
       "      <td>7.940514</td>\n",
       "      <td>43.065600</td>\n",
       "    </tr>\n",
       "    <tr>\n",
       "      <th>75%</th>\n",
       "      <td>25.0</td>\n",
       "      <td>560.000000</td>\n",
       "      <td>2.0</td>\n",
       "      <td>169.0</td>\n",
       "      <td>2014.000000</td>\n",
       "      <td>3.0</td>\n",
       "      <td>32.783255</td>\n",
       "      <td>16.061453</td>\n",
       "      <td>81.377376</td>\n",
       "    </tr>\n",
       "    <tr>\n",
       "      <th>max</th>\n",
       "      <td>25.0</td>\n",
       "      <td>573.000000</td>\n",
       "      <td>2.0</td>\n",
       "      <td>169.0</td>\n",
       "      <td>2019.000000</td>\n",
       "      <td>3.0</td>\n",
       "      <td>441.249133</td>\n",
       "      <td>99.669577</td>\n",
       "      <td>9706.025762</td>\n",
       "    </tr>\n",
       "  </tbody>\n",
       "</table>\n",
       "</div>"
      ],
      "text/plain": [
       "       measure_id  location_id  sex_id  age_group_id      year_id  metric_id  \\\n",
       "count      5901.0  5481.000000  5901.0        5901.0  5901.000000     5901.0   \n",
       "mean         25.0   537.747126     2.0         169.0  2009.000000        3.0   \n",
       "std           0.0    68.411987     0.0           0.0     6.055814        0.0   \n",
       "min          25.0   102.000000     2.0         169.0  1999.000000        3.0   \n",
       "25%          25.0   534.000000     2.0         169.0  2004.000000        3.0   \n",
       "50%          25.0   547.000000     2.0         169.0  2009.000000        3.0   \n",
       "75%          25.0   560.000000     2.0         169.0  2014.000000        3.0   \n",
       "max          25.0   573.000000     2.0         169.0  2019.000000        3.0   \n",
       "\n",
       "               val        lower        upper  \n",
       "count  5901.000000  5901.000000  5901.000000  \n",
       "mean     25.883291    12.189606   107.417064  \n",
       "std      24.849678    13.794055   380.238824  \n",
       "min       0.238959     0.000029     2.990539  \n",
       "25%      10.490341     2.861350    25.498193  \n",
       "50%      18.918142     7.940514    43.065600  \n",
       "75%      32.783255    16.061453    81.377376  \n",
       "max     441.249133    99.669577  9706.025762  "
      ]
     },
     "execution_count": 459,
     "metadata": {},
     "output_type": "execute_result"
    }
   ],
   "source": [
    "#these values are not relevant, as the dataset is not tidied and aggregate counts therefore inaccurate\n",
    "df.describe()"
   ]
  },
  {
   "cell_type": "code",
   "execution_count": 460,
   "id": "7456dac1",
   "metadata": {},
   "outputs": [
    {
     "name": "stdout",
     "output_type": "stream",
     "text": [
      "measure_id          0\n",
      "measure_name        0\n",
      "location_id       420\n",
      "location_name       0\n",
      "race_group          0\n",
      "sex_id              0\n",
      "sex_name            0\n",
      "age_group_id        0\n",
      "age_group_name      0\n",
      "year_id             0\n",
      "metric_id           0\n",
      "metric_name         0\n",
      "val                 0\n",
      "lower               0\n",
      "upper               0\n",
      "dtype: int64\n"
     ]
    }
   ],
   "source": [
    "null_counts = df.isnull().sum()\n",
    "print(null_counts)"
   ]
  },
  {
   "cell_type": "code",
   "execution_count": 461,
   "id": "29fd7d74",
   "metadata": {},
   "outputs": [
    {
     "name": "stdout",
     "output_type": "stream",
     "text": [
      "measure_id          0\n",
      "measure_name        0\n",
      "location_id       420\n",
      "location_name       0\n",
      "race_group          0\n",
      "sex_id              0\n",
      "sex_name            0\n",
      "age_group_id        0\n",
      "age_group_name      0\n",
      "year_id             0\n",
      "metric_id           0\n",
      "metric_name         0\n",
      "val                 0\n",
      "lower               0\n",
      "upper               0\n",
      "dtype: int64\n"
     ]
    }
   ],
   "source": [
    "#420 nan values in locaiton_id. this column is not needed for this analysis and therefore we are not concern with this finding\n",
    "nan_counts = df.isna().sum()\n",
    "print(nan_counts)"
   ]
  },
  {
   "cell_type": "code",
   "execution_count": 462,
   "id": "8e578db3",
   "metadata": {},
   "outputs": [
    {
     "data": {
      "text/plain": [
       "True"
      ]
     },
     "execution_count": 462,
     "metadata": {},
     "output_type": "execute_result"
    }
   ],
   "source": [
    "#Check whether only numeric values are present in numeric columns\n",
    "is_numeric_deaths = all(str(value).isnumeric() for value in df['val'])\n",
    "is_numeric_year = all(str(value).isnumeric() for value in df['year_id'])\n",
    "\n",
    "is_numeric_deaths\n",
    "is_numeric_year"
   ]
  },
  {
   "cell_type": "code",
   "execution_count": 463,
   "id": "b9752fd2",
   "metadata": {},
   "outputs": [
    {
     "name": "stdout",
     "output_type": "stream",
     "text": [
      "[1999 2000 2001 2002 2003 2004 2005 2006 2007 2008 2009 2010 2011 2012\n",
      " 2013 2014 2015 2016 2017 2018 2019]\n"
     ]
    }
   ],
   "source": [
    "#number of unique years in dataset\n",
    "unique_values = df['year_id'].unique()\n",
    "#these are all the years included in the dataset\n",
    "print(unique_values)"
   ]
  },
  {
   "cell_type": "code",
   "execution_count": 464,
   "id": "4ad81be1",
   "metadata": {},
   "outputs": [
    {
     "name": "stdout",
     "output_type": "stream",
     "text": [
      "56\n"
     ]
    }
   ],
   "source": [
    "#number of unqiue locations\n",
    "unique_values = df['location_name'].unique()\n",
    "#these are all the 'locations' in the dataset - 50 states, the district of columbia, 4 census regions, and one national region\n",
    "print(len(unique_values))"
   ]
  },
  {
   "cell_type": "code",
   "execution_count": 465,
   "id": "b76e22e2",
   "metadata": {},
   "outputs": [
    {
     "name": "stdout",
     "output_type": "stream",
     "text": [
      "['Alabama' 'Alaska' 'Arizona' 'Arkansas' 'California' 'Colorado'\n",
      " 'Connecticut' 'Delaware' 'District of Columbia' 'Florida' 'Georgia'\n",
      " 'Hawaii' 'Idaho' 'Illinois' 'Indiana' 'Iowa' 'Kansas' 'Kentucky'\n",
      " 'Louisiana' 'Maine' 'Maryland' 'Massachusetts' 'Michigan'\n",
      " 'Midwest Census Region' 'Minnesota' 'Mississippi' 'Missouri' 'Montana'\n",
      " 'National' 'Nebraska' 'Nevada' 'New Hampshire' 'New Jersey' 'New Mexico'\n",
      " 'New York' 'North Carolina' 'North Dakota' 'Northeast Census Region'\n",
      " 'Ohio' 'Oklahoma' 'Oregon' 'Pennsylvania' 'Rhode Island'\n",
      " 'South Census Region' 'South Carolina' 'South Dakota' 'Tennessee' 'Texas'\n",
      " 'Utah' 'Vermont' 'Virginia' 'Washington' 'West Census Region'\n",
      " 'West Virginia' 'Wisconsin' 'Wyoming']\n"
     ]
    }
   ],
   "source": [
    "#unique location names\n",
    "unique_values = df['location_name'].unique()\n",
    "#here are all the location_names\n",
    "print(unique_values)"
   ]
  },
  {
   "cell_type": "code",
   "execution_count": 466,
   "id": "a5036344",
   "metadata": {},
   "outputs": [
    {
     "name": "stdout",
     "output_type": "stream",
     "text": [
      "<class 'pandas.core.frame.DataFrame'>\n",
      "Int64Index: 21 entries, 2943 to 3043\n",
      "Data columns (total 4 columns):\n",
      " #   Column         Non-Null Count  Dtype  \n",
      "---  ------         --------------  -----  \n",
      " 0   location_name  21 non-null     object \n",
      " 1   year_id        21 non-null     int64  \n",
      " 2   race_group     21 non-null     object \n",
      " 3   val            21 non-null     float64\n",
      "dtypes: float64(1), int64(1), object(2)\n",
      "memory usage: 840.0+ bytes\n"
     ]
    },
    {
     "data": {
      "text/html": [
       "<div>\n",
       "<style scoped>\n",
       "    .dataframe tbody tr th:only-of-type {\n",
       "        vertical-align: middle;\n",
       "    }\n",
       "\n",
       "    .dataframe tbody tr th {\n",
       "        vertical-align: top;\n",
       "    }\n",
       "\n",
       "    .dataframe thead th {\n",
       "        text-align: right;\n",
       "    }\n",
       "</style>\n",
       "<table border=\"1\" class=\"dataframe\">\n",
       "  <thead>\n",
       "    <tr style=\"text-align: right;\">\n",
       "      <th></th>\n",
       "      <th>location_name</th>\n",
       "      <th>year_id</th>\n",
       "      <th>race_group</th>\n",
       "      <th>val</th>\n",
       "    </tr>\n",
       "  </thead>\n",
       "  <tbody>\n",
       "    <tr>\n",
       "      <th>2943</th>\n",
       "      <td>National</td>\n",
       "      <td>1999</td>\n",
       "      <td>Non-Hispanic Black</td>\n",
       "      <td>31.430603</td>\n",
       "    </tr>\n",
       "    <tr>\n",
       "      <th>2948</th>\n",
       "      <td>National</td>\n",
       "      <td>2000</td>\n",
       "      <td>Non-Hispanic Black</td>\n",
       "      <td>28.492504</td>\n",
       "    </tr>\n",
       "    <tr>\n",
       "      <th>2953</th>\n",
       "      <td>National</td>\n",
       "      <td>2001</td>\n",
       "      <td>Non-Hispanic Black</td>\n",
       "      <td>29.999510</td>\n",
       "    </tr>\n",
       "    <tr>\n",
       "      <th>2958</th>\n",
       "      <td>National</td>\n",
       "      <td>2002</td>\n",
       "      <td>Non-Hispanic Black</td>\n",
       "      <td>35.664001</td>\n",
       "    </tr>\n",
       "    <tr>\n",
       "      <th>2963</th>\n",
       "      <td>National</td>\n",
       "      <td>2003</td>\n",
       "      <td>Non-Hispanic Black</td>\n",
       "      <td>42.068799</td>\n",
       "    </tr>\n",
       "    <tr>\n",
       "      <th>2968</th>\n",
       "      <td>National</td>\n",
       "      <td>2004</td>\n",
       "      <td>Non-Hispanic Black</td>\n",
       "      <td>46.368577</td>\n",
       "    </tr>\n",
       "    <tr>\n",
       "      <th>2973</th>\n",
       "      <td>National</td>\n",
       "      <td>2005</td>\n",
       "      <td>Non-Hispanic Black</td>\n",
       "      <td>47.904228</td>\n",
       "    </tr>\n",
       "    <tr>\n",
       "      <th>2978</th>\n",
       "      <td>National</td>\n",
       "      <td>2006</td>\n",
       "      <td>Non-Hispanic Black</td>\n",
       "      <td>47.841304</td>\n",
       "    </tr>\n",
       "    <tr>\n",
       "      <th>2983</th>\n",
       "      <td>National</td>\n",
       "      <td>2007</td>\n",
       "      <td>Non-Hispanic Black</td>\n",
       "      <td>47.525407</td>\n",
       "    </tr>\n",
       "    <tr>\n",
       "      <th>2988</th>\n",
       "      <td>National</td>\n",
       "      <td>2008</td>\n",
       "      <td>Non-Hispanic Black</td>\n",
       "      <td>47.829355</td>\n",
       "    </tr>\n",
       "    <tr>\n",
       "      <th>2993</th>\n",
       "      <td>National</td>\n",
       "      <td>2009</td>\n",
       "      <td>Non-Hispanic Black</td>\n",
       "      <td>49.885799</td>\n",
       "    </tr>\n",
       "    <tr>\n",
       "      <th>2998</th>\n",
       "      <td>National</td>\n",
       "      <td>2010</td>\n",
       "      <td>Non-Hispanic Black</td>\n",
       "      <td>53.311159</td>\n",
       "    </tr>\n",
       "    <tr>\n",
       "      <th>3003</th>\n",
       "      <td>National</td>\n",
       "      <td>2011</td>\n",
       "      <td>Non-Hispanic Black</td>\n",
       "      <td>57.252169</td>\n",
       "    </tr>\n",
       "    <tr>\n",
       "      <th>3008</th>\n",
       "      <td>National</td>\n",
       "      <td>2012</td>\n",
       "      <td>Non-Hispanic Black</td>\n",
       "      <td>61.106843</td>\n",
       "    </tr>\n",
       "    <tr>\n",
       "      <th>3013</th>\n",
       "      <td>National</td>\n",
       "      <td>2013</td>\n",
       "      <td>Non-Hispanic Black</td>\n",
       "      <td>65.359817</td>\n",
       "    </tr>\n",
       "    <tr>\n",
       "      <th>3018</th>\n",
       "      <td>National</td>\n",
       "      <td>2014</td>\n",
       "      <td>Non-Hispanic Black</td>\n",
       "      <td>69.648827</td>\n",
       "    </tr>\n",
       "    <tr>\n",
       "      <th>3023</th>\n",
       "      <td>National</td>\n",
       "      <td>2015</td>\n",
       "      <td>Non-Hispanic Black</td>\n",
       "      <td>71.226339</td>\n",
       "    </tr>\n",
       "    <tr>\n",
       "      <th>3028</th>\n",
       "      <td>National</td>\n",
       "      <td>2016</td>\n",
       "      <td>Non-Hispanic Black</td>\n",
       "      <td>69.637129</td>\n",
       "    </tr>\n",
       "    <tr>\n",
       "      <th>3033</th>\n",
       "      <td>National</td>\n",
       "      <td>2017</td>\n",
       "      <td>Non-Hispanic Black</td>\n",
       "      <td>66.846772</td>\n",
       "    </tr>\n",
       "    <tr>\n",
       "      <th>3038</th>\n",
       "      <td>National</td>\n",
       "      <td>2018</td>\n",
       "      <td>Non-Hispanic Black</td>\n",
       "      <td>66.160581</td>\n",
       "    </tr>\n",
       "    <tr>\n",
       "      <th>3043</th>\n",
       "      <td>National</td>\n",
       "      <td>2019</td>\n",
       "      <td>Non-Hispanic Black</td>\n",
       "      <td>67.630211</td>\n",
       "    </tr>\n",
       "  </tbody>\n",
       "</table>\n",
       "</div>"
      ],
      "text/plain": [
       "     location_name  year_id          race_group        val\n",
       "2943      National     1999  Non-Hispanic Black  31.430603\n",
       "2948      National     2000  Non-Hispanic Black  28.492504\n",
       "2953      National     2001  Non-Hispanic Black  29.999510\n",
       "2958      National     2002  Non-Hispanic Black  35.664001\n",
       "2963      National     2003  Non-Hispanic Black  42.068799\n",
       "2968      National     2004  Non-Hispanic Black  46.368577\n",
       "2973      National     2005  Non-Hispanic Black  47.904228\n",
       "2978      National     2006  Non-Hispanic Black  47.841304\n",
       "2983      National     2007  Non-Hispanic Black  47.525407\n",
       "2988      National     2008  Non-Hispanic Black  47.829355\n",
       "2993      National     2009  Non-Hispanic Black  49.885799\n",
       "2998      National     2010  Non-Hispanic Black  53.311159\n",
       "3003      National     2011  Non-Hispanic Black  57.252169\n",
       "3008      National     2012  Non-Hispanic Black  61.106843\n",
       "3013      National     2013  Non-Hispanic Black  65.359817\n",
       "3018      National     2014  Non-Hispanic Black  69.648827\n",
       "3023      National     2015  Non-Hispanic Black  71.226339\n",
       "3028      National     2016  Non-Hispanic Black  69.637129\n",
       "3033      National     2017  Non-Hispanic Black  66.846772\n",
       "3038      National     2018  Non-Hispanic Black  66.160581\n",
       "3043      National     2019  Non-Hispanic Black  67.630211"
      ]
     },
     "execution_count": 466,
     "metadata": {},
     "output_type": "execute_result"
    }
   ],
   "source": [
    "#filter to only national data\n",
    "data = df[(df['location_name'] == 'National') & (df['race_group'] == 'Non-Hispanic Black')][['location_name',  'year_id', 'race_group', 'val']]\n",
    "data.info()\n",
    "data"
   ]
  },
  {
   "cell_type": "code",
   "execution_count": 467,
   "id": "4cac1751",
   "metadata": {},
   "outputs": [
    {
     "data": {
      "image/png": "[encoded data removed]",
      "text/plain": [
       "<Figure size 1000x600 with 1 Axes>"
      ]
     },
     "metadata": {},
     "output_type": "display_data"
    }
   ],
   "source": [
    "# ensure x and y variable are numeric format\n",
    "data['year_id'] = pd.to_numeric(df_first['year_id'], errors='coerce')  # Convert to numeric, coerce errors to NaN\n",
    "data['val'] = pd.to_numeric(df_first['val'], errors='coerce')\n",
    "\n",
    "#Plot\n",
    "plt.figure(figsize=(10, 6))\n",
    "plt.plot(data['year_id'], df_first['val'], label='MMR', marker='o')  \n",
    "plt.title('US MMR Black Non-Hispanic')\n",
    "plt.xlabel('Year ID')  \n",
    "plt.ylabel('MMR')  \n",
    "plt.legend()\n",
    "plt.grid(True)\n",
    "plt.show()"
   ]
  },
  {
   "cell_type": "markdown",
   "id": "56bf9670",
   "metadata": {},
   "source": [
    "**PART III. AUTOREGRESSIVE MODEL(LAG VARIABLE)**    \n",
    "In this section, a lag varaible was created to account of the time series nature of the data and then a simple regression model run.  The data was then split into training and testing sets. Values were then predicted using the lag variable. The lag variable value for each year corresponded to the previous year's MMR."
   ]
  },
  {
   "cell_type": "code",
   "execution_count": 468,
   "id": "6097b82a",
   "metadata": {},
   "outputs": [
    {
     "name": "stdout",
     "output_type": "stream",
     "text": [
      "      year_id        val      lag_1\n",
      "2948     2000  28.492504  31.430603\n",
      "2953     2001  29.999510  28.492504\n",
      "2958     2002  35.664001  29.999510\n",
      "2963     2003  42.068799  35.664001\n",
      "2968     2004  46.368577  42.068799\n"
     ]
    }
   ],
   "source": [
    "# Creating a lag feature\n",
    "data['lag_1'] = data['val'].shift(1)\n",
    "\n",
    "# Drop rows with NaN values created by the shift\n",
    "data = data.dropna()\n",
    "\n",
    "# Feature set now includes the lag feature\n",
    "X = data[['year_id', 'lag_1']]\n",
    "y = data['val']\n",
    "\n",
    "# training and test split 80/20\n",
    "X_train, X_test, y_train, y_test = train_test_split(X, y, test_size=0.2, shuffle=False)\n",
    "\n",
    "# Linear model\n",
    "model = LinearRegression()\n",
    "\n",
    "# training the model\n",
    "model.fit(X_train, y_train)\n",
    "\n",
    "\n",
    "print(data[['year_id', 'val', 'lag_1']].head())  # Displays the first few rows"
   ]
  },
  {
   "cell_type": "code",
   "execution_count": 469,
   "id": "f9011ab6",
   "metadata": {},
   "outputs": [
    {
     "data": {
      "text/plain": [
       "array([73.87048242, 73.72348638, 72.76684672, 73.22853776])"
      ]
     },
     "execution_count": 469,
     "metadata": {},
     "output_type": "execute_result"
    }
   ],
   "source": [
    "# predictions based on test data\n",
    "y_pred = model.predict(X_test)\n",
    "y_pred"
   ]
  },
  {
   "cell_type": "code",
   "execution_count": 470,
   "id": "c45b900f",
   "metadata": {},
   "outputs": [
    {
     "name": "stdout",
     "output_type": "stream",
     "text": [
      "Mean Squared Error: 35.048618814285454\n"
     ]
    }
   ],
   "source": [
    "# MSE \n",
    "mse = mean_squared_error(y_test, y_pred)\n",
    "print(f'Mean Squared Error: {mse}')"
   ]
  },
  {
   "cell_type": "code",
   "execution_count": 471,
   "id": "17f3538c",
   "metadata": {},
   "outputs": [
    {
     "data": {
      "image/png": "[encoded data removed]",
      "text/plain": [
       "<Figure size 1000x600 with 1 Axes>"
      ]
     },
     "metadata": {},
     "output_type": "display_data"
    }
   ],
   "source": [
    "# Plotting the actual vs predicted values \n",
    "plt.figure(figsize=(10, 6))\n",
    "plt.plot(data.year_id, data['val'], label='Actual')\n",
    "plt.plot(X_test.year_id, y_pred, label='Predicted', color='green')\n",
    "plt.title('Actual vs Predicted Autoregressive Model')\n",
    "plt.xlabel('Year')\n",
    "plt.ylabel('MMR')\n",
    "plt.legend()\n",
    "plt.savefig('actual_vs_predicted.png')\n",
    "plt.show()"
   ]
  },
  {
   "cell_type": "markdown",
   "id": "fd6b8b5c",
   "metadata": {},
   "source": [
    "**PART IV. SIMPLE REGRESSION(WITHOUT A LAG VARIABLE)**  "
   ]
  },
  {
   "cell_type": "code",
   "execution_count": 473,
   "id": "28f9021c",
   "metadata": {},
   "outputs": [
    {
     "name": "stdout",
     "output_type": "stream",
     "text": [
      "Mean Squared Error: 86.1458664378348\n"
     ]
    },
    {
     "data": {
      "image/png": "[encoded data removed]",
      "text/plain": [
       "<Figure size 1000x600 with 1 Axes>"
      ]
     },
     "metadata": {},
     "output_type": "display_data"
    }
   ],
   "source": [
    "X = data[['year_id']]\n",
    "y = data['val']\n",
    "\n",
    "# training and test split 80/20\n",
    "X_train, X_test, y_train, y_test = train_test_split(X, y, test_size=0.2, shuffle=False)\n",
    "\n",
    "# LR model\n",
    "model = LinearRegression()\n",
    "\n",
    "# training the model\n",
    "model.fit(X_train, y_train)\n",
    "# predictions based on test data\n",
    "y_pred = model.predict(X_test)\n",
    "y_pred\n",
    "\n",
    "# Evaluating using MSE \n",
    "mse = mean_squared_error(y_test, y_pred)\n",
    "print(f'Mean Squared Error: {mse}')\n",
    "\n",
    "# Plotting the actual vs predicted values \n",
    "plt.figure(figsize=(10, 6))\n",
    "plt.plot(data.year_id, data['val'], label='Actual')\n",
    "plt.plot(X_test.year_id, y_pred, label='Predicted', color='green')\n",
    "plt.title('Actual vs Predicted Simple Linear Model ')\n",
    "plt.xlabel('Year')\n",
    "plt.ylabel('MMR')\n",
    "plt.legend()\n",
    "plt.savefig('actual_vs_predicted.png')\n",
    "plt.show()"
   ]
  },
  {
   "cell_type": "markdown",
   "id": "f8cb1505",
   "metadata": {},
   "source": [
    "**PART V. CONCLUSION**    "
   ]
  },
  {
   "cell_type": "markdown",
   "id": "0368c9d8",
   "metadata": {},
   "source": [
    "The autoregressive model mean square error of 20 means that the error for the predicted MMR varies by approximately 20 MMR unit/deaths for any single observation/data point. Considering the maximum MMR is ~70 and minium MMR is ~25, a mean square error of 20 is quite large.  However, when comparing the mean squared error of the two models (lag variable model=20 vs non-lag variable model=63), introduction of the lag variable demonstrates that the lag variable model more accurately predicts the MMR by MSE.  Of note, the number of oberservations used in this anlaysis was quite small (21) and these results were somewhat expected because of the small sample size.  Next steps would include using this technique on a dataset with more obersvations/values."
   ]
  },
  {
   "cell_type": "code",
   "execution_count": null,
   "id": "b4d4a646",
   "metadata": {},
   "outputs": [],
   "source": [
    "is "
   ]
  }
 ],
 "metadata": {
  "kernelspec": {
   "display_name": "Python 3 (ipykernel)",
   "language": "python",
   "name": "python3"
  },
  "language_info": {
   "codemirror_mode": {
    "name": "ipython",
    "version": 3
   },
   "file_extension": ".py",
   "mimetype": "text/x-python",
   "name": "python",
   "nbconvert_exporter": "python",
   "pygments_lexer": "ipython3",
   "version": "3.10.9"
  }
 },
 "nbformat": 4,
 "nbformat_minor": 5
}
